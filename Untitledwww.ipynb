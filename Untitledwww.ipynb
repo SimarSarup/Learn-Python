{
 "cells": [
  {
   "cell_type": "code",
   "execution_count": null,
   "metadata": {},
   "outputs": [],
   "source": [
    "num1 = float(input('Enter first number'))\n",
    "op =input(\"Enter operator:\")\n",
    "num2 = float (input('Enter second number'))\n",
    "\n",
    "\n",
    "if op== \"+\":\n",
    "    print(num1+num2)\n",
    "    \n",
    "elif  op==\"-\" :\n",
    "    print(num1-num2)\n",
    "    \n",
    "elif op == \"/\":\n",
    "    print(num1/ num2)\n",
    "    \n",
    "elif op == \"*\":\n",
    "    print(num1* num2)   \n",
    "    \n",
    "else:\n",
    "    print(\"Invalid operator\")\n",
    "    \n",
    "\n"
   ]
  },
  {
   "cell_type": "code",
   "execution_count": null,
   "metadata": {},
   "outputs": [],
   "source": [
    "secret_word = \"tamba\"\n",
    "guess =\"\"\n",
    "\n",
    "while guess != secret_word:\n",
    "    guess = input(\"Enter guess :\")\n",
    "print(\"You win!\")    "
   ]
  },
  {
   "cell_type": "code",
   "execution_count": 1,
   "metadata": {},
   "outputs": [
    {
     "name": "stdout",
     "output_type": "stream",
     "text": [
      "Enter guess:abcch\n",
      "Enter guess:xdgcvh\n",
      "Enter guess:tamba\n",
      "YOU LOSE!\n"
     ]
    }
   ],
   "source": [
    "secret_word = \"tamba\"\n",
    "guess =\"\"\n",
    "guess_count = 0\n",
    "guess_limit = 5\n",
    "out_of_guesses = False\n",
    "\n",
    "while guess != secret_word and not (out_of_guesses):\n",
    "    \n",
    "    if guess_count < guess_limit :\n",
    "        guess = input(\"Enter guess:\")\n",
    "        guess_count += 1\n",
    "else:\n",
    "    out_of_guesses = True\n",
    "    \n",
    "if out_of_guesses:\n",
    "    print(\"YOU LOSE!\")  \n",
    "    \n",
    "else:\n",
    "    print(\"YOU WIN !\")\n",
    "    \n",
    "     "
   ]
  },
  {
   "cell_type": "code",
   "execution_count": 5,
   "metadata": {},
   "outputs": [
    {
     "name": "stdout",
     "output_type": "stream",
     "text": [
      "4\n"
     ]
    }
   ],
   "source": [
    "def raise_to_power(base_num , pow_num):\n",
    "    result = 1\n",
    "    for index in range (base_num):\n",
    "        result = result * base_num\n",
    "    return result\n",
    "\n",
    "\n",
    "\n",
    "print(raise_to_power(2,3))\n"
   ]
  },
  {
   "cell_type": "code",
   "execution_count": null,
   "metadata": {},
   "outputs": [],
   "source": []
  }
 ],
 "metadata": {
  "kernelspec": {
   "display_name": "Python 3",
   "language": "python",
   "name": "python3"
  },
  "language_info": {
   "codemirror_mode": {
    "name": "ipython",
    "version": 3
   },
   "file_extension": ".py",
   "mimetype": "text/x-python",
   "name": "python",
   "nbconvert_exporter": "python",
   "pygments_lexer": "ipython3",
   "version": "3.7.4"
  }
 },
 "nbformat": 4,
 "nbformat_minor": 2
}
